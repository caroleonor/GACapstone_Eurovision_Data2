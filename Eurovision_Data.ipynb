{
 "cells": [
  {
   "cell_type": "markdown",
   "metadata": {},
   "source": [
    "### Import All the Libraries"
   ]
  },
  {
   "cell_type": "code",
   "execution_count": 53,
   "metadata": {},
   "outputs": [],
   "source": [
    "import dash \n",
    "import dash_core_components as dcc\n",
    "import dash_html_components as html\n",
    "import plotly.graph_objs as go\n",
    "from dash.dependencies import Input, Output\n",
    "import pandas as pd\n",
    "import matplotlib.pyplot as plt\n",
    "\n",
    "import os\n",
    "from pathlib import Path"
   ]
  },
  {
   "cell_type": "markdown",
   "metadata": {},
   "source": [
    "### Finding the Path (optional)"
   ]
  },
  {
   "cell_type": "code",
   "execution_count": 54,
   "metadata": {},
   "outputs": [
    {
     "data": {
      "text/plain": [
       "PosixPath('/Users/caroline/general-assembly/python-10wk/projects')"
      ]
     },
     "execution_count": 54,
     "metadata": {},
     "output_type": "execute_result"
    }
   ],
   "source": [
    "#Finding the path\n",
    "home=Path.cwd()\n",
    "home.parent"
   ]
  },
  {
   "cell_type": "code",
   "execution_count": 55,
   "metadata": {},
   "outputs": [
    {
     "data": {
      "text/plain": [
       "PosixPath('/Users/caroline/general-assembly/python-10wk/projects/capstone')"
      ]
     },
     "execution_count": 55,
     "metadata": {},
     "output_type": "execute_result"
    }
   ],
   "source": [
    "datadir=Path.joinpath(home.parent,'capstone')\n",
    "datadir"
   ]
  },
  {
   "cell_type": "code",
   "execution_count": 56,
   "metadata": {
    "scrolled": true
   },
   "outputs": [
    {
     "data": {
      "text/plain": [
       "['.DS_Store',\n",
       " 'Eurovision_Data.ipynb',\n",
       " '.ipynb_checkpoints',\n",
       " 'eurovision_song_contest.xlsx']"
      ]
     },
     "execution_count": 56,
     "metadata": {},
     "output_type": "execute_result"
    }
   ],
   "source": [
    "os.listdir(datadir)"
   ]
  },
  {
   "cell_type": "markdown",
   "metadata": {},
   "source": [
    "### Read in Excel File"
   ]
  },
  {
   "cell_type": "code",
   "execution_count": 173,
   "metadata": {},
   "outputs": [
    {
     "data": {
      "text/html": [
       "<div>\n",
       "<style scoped>\n",
       "    .dataframe tbody tr th:only-of-type {\n",
       "        vertical-align: middle;\n",
       "    }\n",
       "\n",
       "    .dataframe tbody tr th {\n",
       "        vertical-align: top;\n",
       "    }\n",
       "\n",
       "    .dataframe thead th {\n",
       "        text-align: right;\n",
       "    }\n",
       "</style>\n",
       "<table border=\"1\" class=\"dataframe\">\n",
       "  <thead>\n",
       "    <tr style=\"text-align: right;\">\n",
       "      <th></th>\n",
       "      <th>Year</th>\n",
       "      <th>(semi-) final</th>\n",
       "      <th>Edition</th>\n",
       "      <th>Jury or Televoting</th>\n",
       "      <th>From country</th>\n",
       "      <th>To country</th>\n",
       "      <th>Points</th>\n",
       "      <th>Duplicate</th>\n",
       "    </tr>\n",
       "  </thead>\n",
       "  <tbody>\n",
       "    <tr>\n",
       "      <th>0</th>\n",
       "      <td>1975</td>\n",
       "      <td>f</td>\n",
       "      <td>1975f</td>\n",
       "      <td>J</td>\n",
       "      <td>Belgium</td>\n",
       "      <td>Belgium</td>\n",
       "      <td>0</td>\n",
       "      <td>x</td>\n",
       "    </tr>\n",
       "    <tr>\n",
       "      <th>1</th>\n",
       "      <td>1975</td>\n",
       "      <td>f</td>\n",
       "      <td>1975f</td>\n",
       "      <td>J</td>\n",
       "      <td>Belgium</td>\n",
       "      <td>Finland</td>\n",
       "      <td>0</td>\n",
       "      <td>NaN</td>\n",
       "    </tr>\n",
       "    <tr>\n",
       "      <th>2</th>\n",
       "      <td>1975</td>\n",
       "      <td>f</td>\n",
       "      <td>1975f</td>\n",
       "      <td>J</td>\n",
       "      <td>Belgium</td>\n",
       "      <td>France</td>\n",
       "      <td>2</td>\n",
       "      <td>NaN</td>\n",
       "    </tr>\n",
       "    <tr>\n",
       "      <th>3</th>\n",
       "      <td>1975</td>\n",
       "      <td>f</td>\n",
       "      <td>1975f</td>\n",
       "      <td>J</td>\n",
       "      <td>Belgium</td>\n",
       "      <td>Germany</td>\n",
       "      <td>0</td>\n",
       "      <td>NaN</td>\n",
       "    </tr>\n",
       "    <tr>\n",
       "      <th>4</th>\n",
       "      <td>1975</td>\n",
       "      <td>f</td>\n",
       "      <td>1975f</td>\n",
       "      <td>J</td>\n",
       "      <td>Belgium</td>\n",
       "      <td>Ireland</td>\n",
       "      <td>12</td>\n",
       "      <td>NaN</td>\n",
       "    </tr>\n",
       "  </tbody>\n",
       "</table>\n",
       "</div>"
      ],
      "text/plain": [
       "   Year (semi-) final Edition Jury or Televoting From country To country  \\\n",
       "0  1975             f   1975f                  J      Belgium    Belgium   \n",
       "1  1975             f   1975f                  J      Belgium    Finland   \n",
       "2  1975             f   1975f                  J      Belgium     France   \n",
       "3  1975             f   1975f                  J      Belgium    Germany   \n",
       "4  1975             f   1975f                  J      Belgium    Ireland   \n",
       "\n",
       "   Points Duplicate  \n",
       "0       0         x  \n",
       "1       0       NaN  \n",
       "2       2       NaN  \n",
       "3       0       NaN  \n",
       "4      12       NaN  "
      ]
     },
     "execution_count": 173,
     "metadata": {},
     "output_type": "execute_result"
    }
   ],
   "source": [
    "df=pd.read_excel('eurovision_song_contest.xlsx')\n",
    "df.head()"
   ]
  },
  {
   "cell_type": "code",
   "execution_count": null,
   "metadata": {},
   "outputs": [],
   "source": []
  },
  {
   "cell_type": "markdown",
   "metadata": {},
   "source": [
    "### Play with the Data"
   ]
  },
  {
   "cell_type": "code",
   "execution_count": 180,
   "metadata": {},
   "outputs": [],
   "source": [
    "# limit the data only from 2019,final, Jury vote\n",
    "df2=df[(df['Edition']=='2019f')&(df['Jury or Televoting']=='J')]"
   ]
  },
  {
   "cell_type": "code",
   "execution_count": 189,
   "metadata": {},
   "outputs": [
    {
     "data": {
      "text/plain": [
       "To country\n",
       "Albania             43\n",
       "Australia          153\n",
       "Azerbaijan         202\n",
       "Belarus             18\n",
       "Cyprus              77\n",
       "Czech Republic     150\n",
       "Denmark             69\n",
       "Estonia             28\n",
       "France              67\n",
       "Germany             24\n",
       "Greece              50\n",
       "Iceland             46\n",
       "Israel               0\n",
       "Italy              219\n",
       "Malta               87\n",
       "North Macedonia    247\n",
       "Norway              40\n",
       "Russia             126\n",
       "San Marino          12\n",
       "Serbia              35\n",
       "Slovenia            46\n",
       "Spain                1\n",
       "Sweden             241\n",
       "Switzerland        152\n",
       "The Netherlands    237\n",
       "United Kingdom       8\n",
       "Name: Points, dtype: int64"
      ]
     },
     "execution_count": 189,
     "metadata": {},
     "output_type": "execute_result"
    }
   ],
   "source": [
    "# each country's total score from Jury vote\n",
    "df_jury=df2.groupby(\"To country\")[\"Points\"].sum()\n",
    "df_jury"
   ]
  },
  {
   "cell_type": "code",
   "execution_count": 188,
   "metadata": {},
   "outputs": [
    {
     "data": {
      "text/plain": [
       "To country\n",
       "Albania             47\n",
       "Australia          131\n",
       "Azerbaijan         100\n",
       "Belarus             13\n",
       "Cyprus              32\n",
       "Czech Republic       7\n",
       "Denmark             51\n",
       "Estonia             48\n",
       "France              38\n",
       "Germany              0\n",
       "Greece              24\n",
       "Iceland            186\n",
       "Israel              35\n",
       "Italy              253\n",
       "Malta               20\n",
       "North Macedonia     58\n",
       "Norway             291\n",
       "Russia             244\n",
       "San Marino          65\n",
       "Serbia              54\n",
       "Slovenia            59\n",
       "Spain               53\n",
       "Sweden              93\n",
       "Switzerland        212\n",
       "The Netherlands    261\n",
       "United Kingdom       3\n",
       "Name: Points, dtype: int64"
      ]
     },
     "execution_count": 188,
     "metadata": {},
     "output_type": "execute_result"
    }
   ],
   "source": [
    "# limit the data only from 2019,final, Tele vote\n",
    "df3=df[(df['Edition']=='2019f')&(df['Jury or Televoting']=='T')]\n",
    "# each country's total score from Tele vote\n",
    "df_tele=df3.groupby(\"To country\")[\"Points\"].sum()\n",
    "df_tele"
   ]
  },
  {
   "cell_type": "code",
   "execution_count": 198,
   "metadata": {},
   "outputs": [],
   "source": [
    "import seaborn as sns\n",
    "%matplotlib inline\n",
    "import plotly as py\n",
    "import numpy as np\n"
   ]
  },
  {
   "cell_type": "code",
   "execution_count": null,
   "metadata": {},
   "outputs": [],
   "source": [
    "mybarchart1 = go.Bar(x=list(df2[\"To country\"].value_counts().sort_index(),index),\n",
    "                     y=list(df2.groupby(\"To country\")[\"Points\"].sum()),\n",
    "                     marker=dict(color='#F1C40F'),\n",
    "                     name='Jury')"
   ]
  },
  {
   "cell_type": "code",
   "execution_count": 203,
   "metadata": {},
   "outputs": [
    {
     "data": {
      "text/plain": [
       "Bar({\n",
       "    'marker': {'color': '#8E44AD'},\n",
       "    'name': 'Tele',\n",
       "    'x': [Albania, Australia, Azerbaijan, Belarus, Cyprus, Czech Republic,\n",
       "          Denmark, Estonia, France, Germany, Greece, Iceland, Israel, Italy, Malta,\n",
       "          North Macedonia, Norway, Russia, San Marino, Serbia, Slovenia, Spain,\n",
       "          Sweden, Switzerland, The Netherlands, United Kingdom],\n",
       "    'y': [47, 131, 100, 13, 32, 7, 51, 48, 38, 0, 24, 186, 35, 253, 20, 58, 291,\n",
       "          244, 65, 54, 59, 53, 93, 212, 261, 3]\n",
       "})"
      ]
     },
     "execution_count": 203,
     "metadata": {},
     "output_type": "execute_result"
    }
   ],
   "source": [
    "mybarchart2 = go.Bar(x=list(df3[\"To country\"].value_counts().sort_index().index),\n",
    "                     y=list(df3.groupby(\"To country\")[\"Points\"].sum()),\n",
    "                     marker=dict(color='#8E44AD'),\n",
    "                     name='Tele')\n",
    "mybarchart2"
   ]
  },
  {
   "cell_type": "code",
   "execution_count": 201,
   "metadata": {},
   "outputs": [],
   "source": [
    "mylayout = go.Layout(\n",
    "        title='Results from Jury Vote and Televoting',\n",
    "        xaxis=dict(title='Country'),\n",
    "        yaxis=dict(title='Score from Vote'))"
   ]
  },
  {
   "cell_type": "code",
   "execution_count": null,
   "metadata": {},
   "outputs": [],
   "source": []
  },
  {
   "cell_type": "code",
   "execution_count": 149,
   "metadata": {},
   "outputs": [
    {
     "data": {
      "text/html": [
       "<div>\n",
       "<style scoped>\n",
       "    .dataframe tbody tr th:only-of-type {\n",
       "        vertical-align: middle;\n",
       "    }\n",
       "\n",
       "    .dataframe tbody tr th {\n",
       "        vertical-align: top;\n",
       "    }\n",
       "\n",
       "    .dataframe thead th {\n",
       "        text-align: right;\n",
       "    }\n",
       "</style>\n",
       "<table border=\"1\" class=\"dataframe\">\n",
       "  <thead>\n",
       "    <tr style=\"text-align: right;\">\n",
       "      <th></th>\n",
       "      <th>Year</th>\n",
       "      <th>(semi-) final</th>\n",
       "      <th>Edition</th>\n",
       "      <th>Jury or Televoting</th>\n",
       "      <th>From country</th>\n",
       "      <th>To country</th>\n",
       "      <th>Points</th>\n",
       "      <th>Duplicate</th>\n",
       "    </tr>\n",
       "  </thead>\n",
       "  <tbody>\n",
       "    <tr>\n",
       "      <th>48814</th>\n",
       "      <td>2019</td>\n",
       "      <td>f</td>\n",
       "      <td>2019f</td>\n",
       "      <td>J</td>\n",
       "      <td>Malta</td>\n",
       "      <td>The Netherlands</td>\n",
       "      <td>7</td>\n",
       "      <td>NaN</td>\n",
       "    </tr>\n",
       "    <tr>\n",
       "      <th>48864</th>\n",
       "      <td>2019</td>\n",
       "      <td>f</td>\n",
       "      <td>2019f</td>\n",
       "      <td>J</td>\n",
       "      <td>Czech Republic</td>\n",
       "      <td>The Netherlands</td>\n",
       "      <td>6</td>\n",
       "      <td>NaN</td>\n",
       "    </tr>\n",
       "    <tr>\n",
       "      <th>48890</th>\n",
       "      <td>2019</td>\n",
       "      <td>f</td>\n",
       "      <td>2019f</td>\n",
       "      <td>J</td>\n",
       "      <td>Armenia</td>\n",
       "      <td>The Netherlands</td>\n",
       "      <td>6</td>\n",
       "      <td>NaN</td>\n",
       "    </tr>\n",
       "    <tr>\n",
       "      <th>48915</th>\n",
       "      <td>2019</td>\n",
       "      <td>f</td>\n",
       "      <td>2019f</td>\n",
       "      <td>J</td>\n",
       "      <td>Germany</td>\n",
       "      <td>The Netherlands</td>\n",
       "      <td>8</td>\n",
       "      <td>NaN</td>\n",
       "    </tr>\n",
       "    <tr>\n",
       "      <th>48965</th>\n",
       "      <td>2019</td>\n",
       "      <td>f</td>\n",
       "      <td>2019f</td>\n",
       "      <td>J</td>\n",
       "      <td>Denmark</td>\n",
       "      <td>The Netherlands</td>\n",
       "      <td>7</td>\n",
       "      <td>NaN</td>\n",
       "    </tr>\n",
       "    <tr>\n",
       "      <th>48990</th>\n",
       "      <td>2019</td>\n",
       "      <td>f</td>\n",
       "      <td>2019f</td>\n",
       "      <td>J</td>\n",
       "      <td>San Marino</td>\n",
       "      <td>The Netherlands</td>\n",
       "      <td>3</td>\n",
       "      <td>NaN</td>\n",
       "    </tr>\n",
       "    <tr>\n",
       "      <th>49015</th>\n",
       "      <td>2019</td>\n",
       "      <td>f</td>\n",
       "      <td>2019f</td>\n",
       "      <td>J</td>\n",
       "      <td>North Macedonia</td>\n",
       "      <td>The Netherlands</td>\n",
       "      <td>7</td>\n",
       "      <td>NaN</td>\n",
       "    </tr>\n",
       "    <tr>\n",
       "      <th>49040</th>\n",
       "      <td>2019</td>\n",
       "      <td>f</td>\n",
       "      <td>2019f</td>\n",
       "      <td>J</td>\n",
       "      <td>Sweden</td>\n",
       "      <td>The Netherlands</td>\n",
       "      <td>12</td>\n",
       "      <td>NaN</td>\n",
       "    </tr>\n",
       "    <tr>\n",
       "      <th>49065</th>\n",
       "      <td>2019</td>\n",
       "      <td>f</td>\n",
       "      <td>2019f</td>\n",
       "      <td>J</td>\n",
       "      <td>Slovenia</td>\n",
       "      <td>The Netherlands</td>\n",
       "      <td>6</td>\n",
       "      <td>NaN</td>\n",
       "    </tr>\n",
       "    <tr>\n",
       "      <th>49090</th>\n",
       "      <td>2019</td>\n",
       "      <td>f</td>\n",
       "      <td>2019f</td>\n",
       "      <td>J</td>\n",
       "      <td>Cyprus</td>\n",
       "      <td>The Netherlands</td>\n",
       "      <td>5</td>\n",
       "      <td>NaN</td>\n",
       "    </tr>\n",
       "    <tr>\n",
       "      <th>49165</th>\n",
       "      <td>2019</td>\n",
       "      <td>f</td>\n",
       "      <td>2019f</td>\n",
       "      <td>J</td>\n",
       "      <td>Israel</td>\n",
       "      <td>The Netherlands</td>\n",
       "      <td>12</td>\n",
       "      <td>NaN</td>\n",
       "    </tr>\n",
       "    <tr>\n",
       "      <th>49190</th>\n",
       "      <td>2019</td>\n",
       "      <td>f</td>\n",
       "      <td>2019f</td>\n",
       "      <td>J</td>\n",
       "      <td>Norway</td>\n",
       "      <td>The Netherlands</td>\n",
       "      <td>7</td>\n",
       "      <td>NaN</td>\n",
       "    </tr>\n",
       "    <tr>\n",
       "      <th>49215</th>\n",
       "      <td>2019</td>\n",
       "      <td>f</td>\n",
       "      <td>2019f</td>\n",
       "      <td>J</td>\n",
       "      <td>United Kingdom</td>\n",
       "      <td>The Netherlands</td>\n",
       "      <td>6</td>\n",
       "      <td>NaN</td>\n",
       "    </tr>\n",
       "    <tr>\n",
       "      <th>49240</th>\n",
       "      <td>2019</td>\n",
       "      <td>f</td>\n",
       "      <td>2019f</td>\n",
       "      <td>J</td>\n",
       "      <td>Iceland</td>\n",
       "      <td>The Netherlands</td>\n",
       "      <td>7</td>\n",
       "      <td>NaN</td>\n",
       "    </tr>\n",
       "    <tr>\n",
       "      <th>49265</th>\n",
       "      <td>2019</td>\n",
       "      <td>f</td>\n",
       "      <td>2019f</td>\n",
       "      <td>J</td>\n",
       "      <td>Estonia</td>\n",
       "      <td>The Netherlands</td>\n",
       "      <td>7</td>\n",
       "      <td>NaN</td>\n",
       "    </tr>\n",
       "    <tr>\n",
       "      <th>49315</th>\n",
       "      <td>2019</td>\n",
       "      <td>f</td>\n",
       "      <td>2019f</td>\n",
       "      <td>J</td>\n",
       "      <td>France</td>\n",
       "      <td>The Netherlands</td>\n",
       "      <td>12</td>\n",
       "      <td>NaN</td>\n",
       "    </tr>\n",
       "    <tr>\n",
       "      <th>49390</th>\n",
       "      <td>2019</td>\n",
       "      <td>f</td>\n",
       "      <td>2019f</td>\n",
       "      <td>J</td>\n",
       "      <td>Switzerland</td>\n",
       "      <td>The Netherlands</td>\n",
       "      <td>10</td>\n",
       "      <td>NaN</td>\n",
       "    </tr>\n",
       "    <tr>\n",
       "      <th>49415</th>\n",
       "      <td>2019</td>\n",
       "      <td>f</td>\n",
       "      <td>2019f</td>\n",
       "      <td>J</td>\n",
       "      <td>Australia</td>\n",
       "      <td>The Netherlands</td>\n",
       "      <td>6</td>\n",
       "      <td>NaN</td>\n",
       "    </tr>\n",
       "    <tr>\n",
       "      <th>49440</th>\n",
       "      <td>2019</td>\n",
       "      <td>f</td>\n",
       "      <td>2019f</td>\n",
       "      <td>J</td>\n",
       "      <td>Spain</td>\n",
       "      <td>The Netherlands</td>\n",
       "      <td>8</td>\n",
       "      <td>NaN</td>\n",
       "    </tr>\n",
       "    <tr>\n",
       "      <th>49466</th>\n",
       "      <td>2019</td>\n",
       "      <td>f</td>\n",
       "      <td>2019f</td>\n",
       "      <td>J</td>\n",
       "      <td>Austria</td>\n",
       "      <td>The Netherlands</td>\n",
       "      <td>8</td>\n",
       "      <td>NaN</td>\n",
       "    </tr>\n",
       "    <tr>\n",
       "      <th>49492</th>\n",
       "      <td>2019</td>\n",
       "      <td>f</td>\n",
       "      <td>2019f</td>\n",
       "      <td>J</td>\n",
       "      <td>Belgium</td>\n",
       "      <td>The Netherlands</td>\n",
       "      <td>6</td>\n",
       "      <td>NaN</td>\n",
       "    </tr>\n",
       "    <tr>\n",
       "      <th>49518</th>\n",
       "      <td>2019</td>\n",
       "      <td>f</td>\n",
       "      <td>2019f</td>\n",
       "      <td>J</td>\n",
       "      <td>Croatia</td>\n",
       "      <td>The Netherlands</td>\n",
       "      <td>6</td>\n",
       "      <td>NaN</td>\n",
       "    </tr>\n",
       "    <tr>\n",
       "      <th>49544</th>\n",
       "      <td>2019</td>\n",
       "      <td>f</td>\n",
       "      <td>2019f</td>\n",
       "      <td>J</td>\n",
       "      <td>Finland</td>\n",
       "      <td>The Netherlands</td>\n",
       "      <td>8</td>\n",
       "      <td>NaN</td>\n",
       "    </tr>\n",
       "    <tr>\n",
       "      <th>49570</th>\n",
       "      <td>2019</td>\n",
       "      <td>f</td>\n",
       "      <td>2019f</td>\n",
       "      <td>J</td>\n",
       "      <td>Georgia</td>\n",
       "      <td>The Netherlands</td>\n",
       "      <td>8</td>\n",
       "      <td>NaN</td>\n",
       "    </tr>\n",
       "    <tr>\n",
       "      <th>49596</th>\n",
       "      <td>2019</td>\n",
       "      <td>f</td>\n",
       "      <td>2019f</td>\n",
       "      <td>J</td>\n",
       "      <td>Hungary</td>\n",
       "      <td>The Netherlands</td>\n",
       "      <td>1</td>\n",
       "      <td>NaN</td>\n",
       "    </tr>\n",
       "    <tr>\n",
       "      <th>49622</th>\n",
       "      <td>2019</td>\n",
       "      <td>f</td>\n",
       "      <td>2019f</td>\n",
       "      <td>J</td>\n",
       "      <td>Ireland</td>\n",
       "      <td>The Netherlands</td>\n",
       "      <td>8</td>\n",
       "      <td>NaN</td>\n",
       "    </tr>\n",
       "    <tr>\n",
       "      <th>49648</th>\n",
       "      <td>2019</td>\n",
       "      <td>f</td>\n",
       "      <td>2019f</td>\n",
       "      <td>J</td>\n",
       "      <td>Latvia</td>\n",
       "      <td>The Netherlands</td>\n",
       "      <td>12</td>\n",
       "      <td>NaN</td>\n",
       "    </tr>\n",
       "    <tr>\n",
       "      <th>49674</th>\n",
       "      <td>2019</td>\n",
       "      <td>f</td>\n",
       "      <td>2019f</td>\n",
       "      <td>J</td>\n",
       "      <td>Lithuania</td>\n",
       "      <td>The Netherlands</td>\n",
       "      <td>12</td>\n",
       "      <td>NaN</td>\n",
       "    </tr>\n",
       "    <tr>\n",
       "      <th>49700</th>\n",
       "      <td>2019</td>\n",
       "      <td>f</td>\n",
       "      <td>2019f</td>\n",
       "      <td>J</td>\n",
       "      <td>Moldova</td>\n",
       "      <td>The Netherlands</td>\n",
       "      <td>3</td>\n",
       "      <td>NaN</td>\n",
       "    </tr>\n",
       "    <tr>\n",
       "      <th>49778</th>\n",
       "      <td>2019</td>\n",
       "      <td>f</td>\n",
       "      <td>2019f</td>\n",
       "      <td>J</td>\n",
       "      <td>Portugal</td>\n",
       "      <td>The Netherlands</td>\n",
       "      <td>12</td>\n",
       "      <td>NaN</td>\n",
       "    </tr>\n",
       "    <tr>\n",
       "      <th>49804</th>\n",
       "      <td>2019</td>\n",
       "      <td>f</td>\n",
       "      <td>2019f</td>\n",
       "      <td>J</td>\n",
       "      <td>Romania</td>\n",
       "      <td>The Netherlands</td>\n",
       "      <td>5</td>\n",
       "      <td>NaN</td>\n",
       "    </tr>\n",
       "    <tr>\n",
       "      <th>49830</th>\n",
       "      <td>2019</td>\n",
       "      <td>f</td>\n",
       "      <td>2019f</td>\n",
       "      <td>J</td>\n",
       "      <td>Belarus</td>\n",
       "      <td>The Netherlands</td>\n",
       "      <td>6</td>\n",
       "      <td>NaN</td>\n",
       "    </tr>\n",
       "  </tbody>\n",
       "</table>\n",
       "</div>"
      ],
      "text/plain": [
       "       Year (semi-) final Edition Jury or Televoting     From country  \\\n",
       "48814  2019             f   2019f                  J            Malta   \n",
       "48864  2019             f   2019f                  J   Czech Republic   \n",
       "48890  2019             f   2019f                  J          Armenia   \n",
       "48915  2019             f   2019f                  J          Germany   \n",
       "48965  2019             f   2019f                  J          Denmark   \n",
       "48990  2019             f   2019f                  J       San Marino   \n",
       "49015  2019             f   2019f                  J  North Macedonia   \n",
       "49040  2019             f   2019f                  J           Sweden   \n",
       "49065  2019             f   2019f                  J         Slovenia   \n",
       "49090  2019             f   2019f                  J           Cyprus   \n",
       "49165  2019             f   2019f                  J           Israel   \n",
       "49190  2019             f   2019f                  J           Norway   \n",
       "49215  2019             f   2019f                  J   United Kingdom   \n",
       "49240  2019             f   2019f                  J          Iceland   \n",
       "49265  2019             f   2019f                  J          Estonia   \n",
       "49315  2019             f   2019f                  J           France   \n",
       "49390  2019             f   2019f                  J      Switzerland   \n",
       "49415  2019             f   2019f                  J        Australia   \n",
       "49440  2019             f   2019f                  J            Spain   \n",
       "49466  2019             f   2019f                  J          Austria   \n",
       "49492  2019             f   2019f                  J          Belgium   \n",
       "49518  2019             f   2019f                  J          Croatia   \n",
       "49544  2019             f   2019f                  J          Finland   \n",
       "49570  2019             f   2019f                  J          Georgia   \n",
       "49596  2019             f   2019f                  J          Hungary   \n",
       "49622  2019             f   2019f                  J          Ireland   \n",
       "49648  2019             f   2019f                  J           Latvia   \n",
       "49674  2019             f   2019f                  J        Lithuania   \n",
       "49700  2019             f   2019f                  J          Moldova   \n",
       "49778  2019             f   2019f                  J         Portugal   \n",
       "49804  2019             f   2019f                  J          Romania   \n",
       "49830  2019             f   2019f                  J          Belarus   \n",
       "\n",
       "            To country  Points Duplicate  \n",
       "48814  The Netherlands       7       NaN  \n",
       "48864  The Netherlands       6       NaN  \n",
       "48890  The Netherlands       6       NaN  \n",
       "48915  The Netherlands       8       NaN  \n",
       "48965  The Netherlands       7       NaN  \n",
       "48990  The Netherlands       3       NaN  \n",
       "49015  The Netherlands       7       NaN  \n",
       "49040  The Netherlands      12       NaN  \n",
       "49065  The Netherlands       6       NaN  \n",
       "49090  The Netherlands       5       NaN  \n",
       "49165  The Netherlands      12       NaN  \n",
       "49190  The Netherlands       7       NaN  \n",
       "49215  The Netherlands       6       NaN  \n",
       "49240  The Netherlands       7       NaN  \n",
       "49265  The Netherlands       7       NaN  \n",
       "49315  The Netherlands      12       NaN  \n",
       "49390  The Netherlands      10       NaN  \n",
       "49415  The Netherlands       6       NaN  \n",
       "49440  The Netherlands       8       NaN  \n",
       "49466  The Netherlands       8       NaN  \n",
       "49492  The Netherlands       6       NaN  \n",
       "49518  The Netherlands       6       NaN  \n",
       "49544  The Netherlands       8       NaN  \n",
       "49570  The Netherlands       8       NaN  \n",
       "49596  The Netherlands       1       NaN  \n",
       "49622  The Netherlands       8       NaN  \n",
       "49648  The Netherlands      12       NaN  \n",
       "49674  The Netherlands      12       NaN  \n",
       "49700  The Netherlands       3       NaN  \n",
       "49778  The Netherlands      12       NaN  \n",
       "49804  The Netherlands       5       NaN  \n",
       "49830  The Netherlands       6       NaN  "
      ]
     },
     "execution_count": 149,
     "metadata": {},
     "output_type": "execute_result"
    }
   ],
   "source": [
    "df_NL=df2[(df2['To country']=='The Netherlands')&(df2['Points']!=0)]\n",
    "df_NL"
   ]
  },
  {
   "cell_type": "code",
   "execution_count": 104,
   "metadata": {},
   "outputs": [],
   "source": [
    "df_IT=df2[(df2['To country']=='Italy')&(df2['Points']!=0)]"
   ]
  },
  {
   "cell_type": "code",
   "execution_count": null,
   "metadata": {},
   "outputs": [],
   "source": [
    "df_RU=df2[(df2['To country']=='Russia')&(df2['Points']!=0)]"
   ]
  },
  {
   "cell_type": "code",
   "execution_count": 72,
   "metadata": {},
   "outputs": [],
   "source": [
    "df_CH=df2[(df2['To country']=='Switzerland')&(df2['Points']!=0)]"
   ]
  },
  {
   "cell_type": "code",
   "execution_count": null,
   "metadata": {},
   "outputs": [],
   "source": [
    "df_SE=df2[(df2['To country']=='Sweden')&(df2['Points']!=0)]"
   ]
  },
  {
   "cell_type": "code",
   "execution_count": null,
   "metadata": {},
   "outputs": [],
   "source": [
    "df_NO=df2[(df2['To country']=='Norway')&(df2['Points']!=0)]"
   ]
  },
  {
   "cell_type": "code",
   "execution_count": null,
   "metadata": {},
   "outputs": [],
   "source": [
    "df_MK=df2[(df2['To country']=='North Macedonia')&(df2['Points']!=0)]"
   ]
  },
  {
   "cell_type": "code",
   "execution_count": 74,
   "metadata": {},
   "outputs": [],
   "source": [
    "df_AZ=df2[(df2['To country']=='Azerbaijan')&(df2['Points']!=0)]"
   ]
  },
  {
   "cell_type": "code",
   "execution_count": 75,
   "metadata": {},
   "outputs": [],
   "source": [
    "df_AU=df2[(df2['To country']=='Australia')&(df2['Points']!=0)]"
   ]
  },
  {
   "cell_type": "code",
   "execution_count": null,
   "metadata": {},
   "outputs": [],
   "source": [
    "df_IS=df2[(df2['To country']=='Iceland')&(df2['Points']!=0)]"
   ]
  },
  {
   "cell_type": "code",
   "execution_count": 90,
   "metadata": {},
   "outputs": [],
   "source": []
  },
  {
   "cell_type": "code",
   "execution_count": 91,
   "metadata": {},
   "outputs": [],
   "source": []
  },
  {
   "cell_type": "markdown",
   "metadata": {},
   "source": [
    "### Define All the Varilables"
   ]
  },
  {
   "cell_type": "code",
   "execution_count": null,
   "metadata": {},
   "outputs": [],
   "source": [
    "myheading = \"Eurovision 2019 Data\"\n",
    "mysubheading = \"2019 Jury Votes\"\n",
    "tabtitle = 'Eurovision'\n",
    "filename = 'eurovision_song_contest.xlsx'\n",
    "sourceurl = 'https://eurovision.tv/event/tel-aviv-2019'\n",
    "githublink = 'https://github.com/austinlasseter/dash-table-example'"
   ]
  },
  {
   "cell_type": "markdown",
   "metadata": {},
   "source": [
    "### Set up the DropDown Menu"
   ]
  },
  {
   "cell_type": "code",
   "execution_count": 166,
   "metadata": {},
   "outputs": [
    {
     "data": {
      "text/plain": [
       "['Albania',\n",
       " 'Australia',\n",
       " 'Azerbaijan',\n",
       " 'Belarus',\n",
       " 'Cyprus',\n",
       " 'Czech Republic',\n",
       " 'Denmark',\n",
       " 'Estonia',\n",
       " 'France',\n",
       " 'Germany',\n",
       " 'Greece',\n",
       " 'Iceland',\n",
       " 'Israel',\n",
       " 'Italy',\n",
       " 'Malta',\n",
       " 'North Macedonia',\n",
       " 'Norway',\n",
       " 'Russia',\n",
       " 'San Marino',\n",
       " 'Serbia',\n",
       " 'Slovenia',\n",
       " 'Spain',\n",
       " 'Sweden',\n",
       " 'Switzerland',\n",
       " 'The Netherlands',\n",
       " 'United Kingdom']"
      ]
     },
     "execution_count": 166,
     "metadata": {},
     "output_type": "execute_result"
    }
   ],
   "source": [
    "options_list=list(df2['To country'].value_counts().sort_index().index) \n",
    "options_list"
   ]
  },
  {
   "cell_type": "code",
   "execution_count": 170,
   "metadata": {},
   "outputs": [],
   "source": [
    "options_list=list(df2['To country'].value_counts().sort_index().index) \n",
    "\n",
    "app.layout=html.Div(children=[\n",
    "    html.H1('Eurovision 2019 Data'),\n",
    "    dcc.Dropdown(id='top10_dropdown',\n",
    "                 options=[{'label': i, 'value': i} for i in options_list],\n",
    "                 value='Please select a participating country'),\n",
    "    html.Br(),\n",
    "    #insert the european color map???\n",
    "    html.Br(),\n",
    "    html.A('Data Source',href='https://eurovision.tv/event/tel-aviv-2019'),\n",
    "    html.Br(),\n",
    "    html.A('See the Code',href='https://en.wikipedia.org/wiki/Eurovision_Song_Contest_2019')# insert the code online \n",
    "                            ]\n",
    "                   )\n"
   ]
  },
  {
   "cell_type": "markdown",
   "metadata": {},
   "source": [
    "### Set up the Callback (between Dropdown and European Map)"
   ]
  },
  {
   "cell_type": "code",
   "execution_count": 171,
   "metadata": {},
   "outputs": [
    {
     "ename": "SyntaxError",
     "evalue": "unexpected EOF while parsing (<ipython-input-171-e47280d015fc>, line 2)",
     "output_type": "error",
     "traceback": [
      "\u001b[0;36m  File \u001b[0;32m\"<ipython-input-171-e47280d015fc>\"\u001b[0;36m, line \u001b[0;32m2\u001b[0m\n\u001b[0;31m    [Input('top10_dropdown','value')])\u001b[0m\n\u001b[0m                                      ^\u001b[0m\n\u001b[0;31mSyntaxError\u001b[0m\u001b[0;31m:\u001b[0m unexpected EOF while parsing\n"
     ]
    }
   ],
   "source": [
    "@app.callback(Output('display-map','fig'),\n",
    "              [Input('top10_dropdown','value')])"
   ]
  },
  {
   "cell_type": "code",
   "execution_count": 172,
   "metadata": {},
   "outputs": [
    {
     "ename": "NonExistentIdException",
     "evalue": "\nAttempting to assign a callback to the\ncomponent with the id \"display-map\" but no\ncomponents with id \"display-map\" exist in the\napp's layout.\n\n\nHere is a list of IDs in layout:\n['top10_dropdown']\n\n\nIf you are assigning callbacks to components\nthat are generated by other callbacks\n(and therefore not in the initial layout), then\nyou can suppress this exception by setting\n`app.config['suppress_callback_exceptions']=True`.\n",
     "output_type": "error",
     "traceback": [
      "\u001b[0;31m---------------------------------------------------------------------------\u001b[0m",
      "\u001b[0;31mNonExistentIdException\u001b[0m                    Traceback (most recent call last)",
      "\u001b[0;32m<ipython-input-172-d8b2f38815d2>\u001b[0m in \u001b[0;36m<module>\u001b[0;34m\u001b[0m\n\u001b[1;32m      1\u001b[0m @app.callback(Output('display-map','fig'),\n\u001b[0;32m----> 2\u001b[0;31m               [Input('top10_dropdown','value')])\n\u001b[0m\u001b[1;32m      3\u001b[0m \u001b[0;34m\u001b[0m\u001b[0m\n\u001b[1;32m      4\u001b[0m \u001b[0;32mdef\u001b[0m \u001b[0mpick_a_country\u001b[0m\u001b[0;34m(\u001b[0m\u001b[0mcountry_name\u001b[0m\u001b[0;34m)\u001b[0m\u001b[0;34m:\u001b[0m\u001b[0;34m\u001b[0m\u001b[0;34m\u001b[0m\u001b[0m\n\u001b[1;32m      5\u001b[0m     \u001b[0mdf_pick\u001b[0m\u001b[0;34m=\u001b[0m\u001b[0mdf2\u001b[0m\u001b[0;34m[\u001b[0m\u001b[0;34m(\u001b[0m\u001b[0mdf2\u001b[0m\u001b[0;34m[\u001b[0m\u001b[0;34m'To country'\u001b[0m\u001b[0;34m]\u001b[0m\u001b[0;34m==\u001b[0m\u001b[0mcountry_name\u001b[0m\u001b[0;34m)\u001b[0m\u001b[0;34m&\u001b[0m\u001b[0;34m(\u001b[0m\u001b[0mdf2\u001b[0m\u001b[0;34m[\u001b[0m\u001b[0;34m'Points'\u001b[0m\u001b[0;34m]\u001b[0m\u001b[0;34m!=\u001b[0m\u001b[0;36m0\u001b[0m\u001b[0;34m)\u001b[0m\u001b[0;34m]\u001b[0m\u001b[0;34m\u001b[0m\u001b[0;34m\u001b[0m\u001b[0m\n",
      "\u001b[0;32m//anaconda3/lib/python3.7/site-packages/dash/dash.py\u001b[0m in \u001b[0;36mcallback\u001b[0;34m(self, output, inputs, state)\u001b[0m\n\u001b[1;32m    948\u001b[0m     \u001b[0;31m# pylint: disable=dangerous-default-value\u001b[0m\u001b[0;34m\u001b[0m\u001b[0;34m\u001b[0m\u001b[0;34m\u001b[0m\u001b[0m\n\u001b[1;32m    949\u001b[0m     \u001b[0;32mdef\u001b[0m \u001b[0mcallback\u001b[0m\u001b[0;34m(\u001b[0m\u001b[0mself\u001b[0m\u001b[0;34m,\u001b[0m \u001b[0moutput\u001b[0m\u001b[0;34m,\u001b[0m \u001b[0minputs\u001b[0m\u001b[0;34m=\u001b[0m\u001b[0;34m[\u001b[0m\u001b[0;34m]\u001b[0m\u001b[0;34m,\u001b[0m \u001b[0mstate\u001b[0m\u001b[0;34m=\u001b[0m\u001b[0;34m[\u001b[0m\u001b[0;34m]\u001b[0m\u001b[0;34m)\u001b[0m\u001b[0;34m:\u001b[0m\u001b[0;34m\u001b[0m\u001b[0;34m\u001b[0m\u001b[0m\n\u001b[0;32m--> 950\u001b[0;31m         \u001b[0mself\u001b[0m\u001b[0;34m.\u001b[0m\u001b[0m_validate_callback\u001b[0m\u001b[0;34m(\u001b[0m\u001b[0moutput\u001b[0m\u001b[0;34m,\u001b[0m \u001b[0minputs\u001b[0m\u001b[0;34m,\u001b[0m \u001b[0mstate\u001b[0m\u001b[0;34m)\u001b[0m\u001b[0;34m\u001b[0m\u001b[0;34m\u001b[0m\u001b[0m\n\u001b[0m\u001b[1;32m    951\u001b[0m \u001b[0;34m\u001b[0m\u001b[0m\n\u001b[1;32m    952\u001b[0m         \u001b[0mcallback_id\u001b[0m \u001b[0;34m=\u001b[0m \u001b[0m_create_callback_id\u001b[0m\u001b[0;34m(\u001b[0m\u001b[0moutput\u001b[0m\u001b[0;34m)\u001b[0m\u001b[0;34m\u001b[0m\u001b[0;34m\u001b[0m\u001b[0m\n",
      "\u001b[0;32m//anaconda3/lib/python3.7/site-packages/dash/dash.py\u001b[0m in \u001b[0;36m_validate_callback\u001b[0;34m(self, output, inputs, state)\u001b[0m\n\u001b[1;32m    740\u001b[0m                             \u001b[0;34m[\u001b[0m\u001b[0mlayout\u001b[0m\u001b[0;34m.\u001b[0m\u001b[0mid\u001b[0m\u001b[0;34m]\u001b[0m\u001b[0;34m\u001b[0m\u001b[0;34m\u001b[0m\u001b[0m\n\u001b[1;32m    741\u001b[0m                         )\n\u001b[0;32m--> 742\u001b[0;31m                     ).replace('    ', ''))\n\u001b[0m\u001b[1;32m    743\u001b[0m \u001b[0;34m\u001b[0m\u001b[0m\n\u001b[1;32m    744\u001b[0m                 if not self.config.first('suppress_callback_exceptions',\n",
      "\u001b[0;31mNonExistentIdException\u001b[0m: \nAttempting to assign a callback to the\ncomponent with the id \"display-map\" but no\ncomponents with id \"display-map\" exist in the\napp's layout.\n\n\nHere is a list of IDs in layout:\n['top10_dropdown']\n\n\nIf you are assigning callbacks to components\nthat are generated by other callbacks\n(and therefore not in the initial layout), then\nyou can suppress this exception by setting\n`app.config['suppress_callback_exceptions']=True`.\n"
     ]
    }
   ],
   "source": [
    "@app.callback(Output('display-map','fig'),\n",
    "              [Input('top10_dropdown','value')])\n",
    "\n",
    "def pick_a_country(country_name):\n",
    "    df_pick=df2[(df2['To country']==country_name)&(df2['Points']!=0)]\n",
    "    \n",
    "    fig = go.Figure(data=go.Choropleth(\n",
    "        locations=df_pick['From country'], # Spatial coordinates\n",
    "        z = df_pick['Points'], # Data to be color-coded\n",
    "        locationmode = 'country names', # set of locations match entries in `locations`\n",
    "        colorscale = 'ylgn',\n",
    "        colorbar_title = 'Points of Giving',\n",
    "))\n",
    "    fig.update_layout(geo=dict(scope='world',\n",
    "                           lataxis=dict(range=[30.0, 80.0]),\n",
    "                           lonaxis=dict(range=[-20.0, 50.0])),\n",
    "                autosize=False,width=900,height=700)\n",
    "    return fig   "
   ]
  },
  {
   "cell_type": "code",
   "execution_count": null,
   "metadata": {},
   "outputs": [],
   "source": []
  },
  {
   "cell_type": "markdown",
   "metadata": {},
   "source": [
    "### Read in a File of European Map"
   ]
  },
  {
   "cell_type": "code",
   "execution_count": 97,
   "metadata": {},
   "outputs": [],
   "source": [
    "import matplotlib.pyplot as plt\n",
    "import seaborn as sns\n",
    "%matplotlib inline"
   ]
  },
  {
   "cell_type": "code",
   "execution_count": 151,
   "metadata": {},
   "outputs": [
    {
     "data": {
      "application/vnd.plotly.v1+json": {
       "config": {
        "plotlyServerURL": "https://plot.ly"
       },
       "data": [
        {
         "colorbar": {
          "title": {
           "text": "Points of Giving"
          }
         },
         "colorscale": [
          [
           0,
           "rgb(255,255,229)"
          ],
          [
           0.125,
           "rgb(247,252,185)"
          ],
          [
           0.25,
           "rgb(217,240,163)"
          ],
          [
           0.375,
           "rgb(173,221,142)"
          ],
          [
           0.5,
           "rgb(120,198,121)"
          ],
          [
           0.625,
           "rgb(65,171,93)"
          ],
          [
           0.75,
           "rgb(35,132,67)"
          ],
          [
           0.875,
           "rgb(0,104,55)"
          ],
          [
           1,
           "rgb(0,69,41)"
          ]
         ],
         "locationmode": "country names",
         "locations": [
          "Malta",
          "Czech Republic",
          "Armenia",
          "Germany",
          "Denmark",
          "San Marino",
          "North Macedonia",
          "Sweden",
          "Slovenia",
          "Cyprus",
          "Israel",
          "Norway",
          "United Kingdom",
          "Iceland",
          "Estonia",
          "France",
          "Switzerland",
          "Australia",
          "Spain",
          "Austria",
          "Belgium",
          "Croatia",
          "Finland",
          "Georgia",
          "Hungary",
          "Ireland",
          "Latvia",
          "Lithuania",
          "Moldova",
          "Portugal",
          "Romania",
          "Belarus"
         ],
         "type": "choropleth",
         "z": [
          7,
          6,
          6,
          8,
          7,
          3,
          7,
          12,
          6,
          5,
          12,
          7,
          6,
          7,
          7,
          12,
          10,
          6,
          8,
          8,
          6,
          6,
          8,
          8,
          1,
          8,
          12,
          12,
          3,
          12,
          5,
          6
         ]
        }
       ],
       "layout": {
        "autosize": false,
        "geo": {
         "lataxis": {
          "range": [
           30,
           80
          ]
         },
         "lonaxis": {
          "range": [
           -20,
           50
          ]
         },
         "scope": "world"
        },
        "height": 700,
        "template": {
         "data": {
          "bar": [
           {
            "error_x": {
             "color": "#2a3f5f"
            },
            "error_y": {
             "color": "#2a3f5f"
            },
            "marker": {
             "line": {
              "color": "#E5ECF6",
              "width": 0.5
             }
            },
            "type": "bar"
           }
          ],
          "barpolar": [
           {
            "marker": {
             "line": {
              "color": "#E5ECF6",
              "width": 0.5
             }
            },
            "type": "barpolar"
           }
          ],
          "carpet": [
           {
            "aaxis": {
             "endlinecolor": "#2a3f5f",
             "gridcolor": "white",
             "linecolor": "white",
             "minorgridcolor": "white",
             "startlinecolor": "#2a3f5f"
            },
            "baxis": {
             "endlinecolor": "#2a3f5f",
             "gridcolor": "white",
             "linecolor": "white",
             "minorgridcolor": "white",
             "startlinecolor": "#2a3f5f"
            },
            "type": "carpet"
           }
          ],
          "choropleth": [
           {
            "colorbar": {
             "outlinewidth": 0,
             "ticks": ""
            },
            "type": "choropleth"
           }
          ],
          "contour": [
           {
            "colorbar": {
             "outlinewidth": 0,
             "ticks": ""
            },
            "colorscale": [
             [
              0,
              "#0d0887"
             ],
             [
              0.1111111111111111,
              "#46039f"
             ],
             [
              0.2222222222222222,
              "#7201a8"
             ],
             [
              0.3333333333333333,
              "#9c179e"
             ],
             [
              0.4444444444444444,
              "#bd3786"
             ],
             [
              0.5555555555555556,
              "#d8576b"
             ],
             [
              0.6666666666666666,
              "#ed7953"
             ],
             [
              0.7777777777777778,
              "#fb9f3a"
             ],
             [
              0.8888888888888888,
              "#fdca26"
             ],
             [
              1,
              "#f0f921"
             ]
            ],
            "type": "contour"
           }
          ],
          "contourcarpet": [
           {
            "colorbar": {
             "outlinewidth": 0,
             "ticks": ""
            },
            "type": "contourcarpet"
           }
          ],
          "heatmap": [
           {
            "colorbar": {
             "outlinewidth": 0,
             "ticks": ""
            },
            "colorscale": [
             [
              0,
              "#0d0887"
             ],
             [
              0.1111111111111111,
              "#46039f"
             ],
             [
              0.2222222222222222,
              "#7201a8"
             ],
             [
              0.3333333333333333,
              "#9c179e"
             ],
             [
              0.4444444444444444,
              "#bd3786"
             ],
             [
              0.5555555555555556,
              "#d8576b"
             ],
             [
              0.6666666666666666,
              "#ed7953"
             ],
             [
              0.7777777777777778,
              "#fb9f3a"
             ],
             [
              0.8888888888888888,
              "#fdca26"
             ],
             [
              1,
              "#f0f921"
             ]
            ],
            "type": "heatmap"
           }
          ],
          "heatmapgl": [
           {
            "colorbar": {
             "outlinewidth": 0,
             "ticks": ""
            },
            "colorscale": [
             [
              0,
              "#0d0887"
             ],
             [
              0.1111111111111111,
              "#46039f"
             ],
             [
              0.2222222222222222,
              "#7201a8"
             ],
             [
              0.3333333333333333,
              "#9c179e"
             ],
             [
              0.4444444444444444,
              "#bd3786"
             ],
             [
              0.5555555555555556,
              "#d8576b"
             ],
             [
              0.6666666666666666,
              "#ed7953"
             ],
             [
              0.7777777777777778,
              "#fb9f3a"
             ],
             [
              0.8888888888888888,
              "#fdca26"
             ],
             [
              1,
              "#f0f921"
             ]
            ],
            "type": "heatmapgl"
           }
          ],
          "histogram": [
           {
            "marker": {
             "colorbar": {
              "outlinewidth": 0,
              "ticks": ""
             }
            },
            "type": "histogram"
           }
          ],
          "histogram2d": [
           {
            "colorbar": {
             "outlinewidth": 0,
             "ticks": ""
            },
            "colorscale": [
             [
              0,
              "#0d0887"
             ],
             [
              0.1111111111111111,
              "#46039f"
             ],
             [
              0.2222222222222222,
              "#7201a8"
             ],
             [
              0.3333333333333333,
              "#9c179e"
             ],
             [
              0.4444444444444444,
              "#bd3786"
             ],
             [
              0.5555555555555556,
              "#d8576b"
             ],
             [
              0.6666666666666666,
              "#ed7953"
             ],
             [
              0.7777777777777778,
              "#fb9f3a"
             ],
             [
              0.8888888888888888,
              "#fdca26"
             ],
             [
              1,
              "#f0f921"
             ]
            ],
            "type": "histogram2d"
           }
          ],
          "histogram2dcontour": [
           {
            "colorbar": {
             "outlinewidth": 0,
             "ticks": ""
            },
            "colorscale": [
             [
              0,
              "#0d0887"
             ],
             [
              0.1111111111111111,
              "#46039f"
             ],
             [
              0.2222222222222222,
              "#7201a8"
             ],
             [
              0.3333333333333333,
              "#9c179e"
             ],
             [
              0.4444444444444444,
              "#bd3786"
             ],
             [
              0.5555555555555556,
              "#d8576b"
             ],
             [
              0.6666666666666666,
              "#ed7953"
             ],
             [
              0.7777777777777778,
              "#fb9f3a"
             ],
             [
              0.8888888888888888,
              "#fdca26"
             ],
             [
              1,
              "#f0f921"
             ]
            ],
            "type": "histogram2dcontour"
           }
          ],
          "mesh3d": [
           {
            "colorbar": {
             "outlinewidth": 0,
             "ticks": ""
            },
            "type": "mesh3d"
           }
          ],
          "parcoords": [
           {
            "line": {
             "colorbar": {
              "outlinewidth": 0,
              "ticks": ""
             }
            },
            "type": "parcoords"
           }
          ],
          "scatter": [
           {
            "marker": {
             "colorbar": {
              "outlinewidth": 0,
              "ticks": ""
             }
            },
            "type": "scatter"
           }
          ],
          "scatter3d": [
           {
            "line": {
             "colorbar": {
              "outlinewidth": 0,
              "ticks": ""
             }
            },
            "marker": {
             "colorbar": {
              "outlinewidth": 0,
              "ticks": ""
             }
            },
            "type": "scatter3d"
           }
          ],
          "scattercarpet": [
           {
            "marker": {
             "colorbar": {
              "outlinewidth": 0,
              "ticks": ""
             }
            },
            "type": "scattercarpet"
           }
          ],
          "scattergeo": [
           {
            "marker": {
             "colorbar": {
              "outlinewidth": 0,
              "ticks": ""
             }
            },
            "type": "scattergeo"
           }
          ],
          "scattergl": [
           {
            "marker": {
             "colorbar": {
              "outlinewidth": 0,
              "ticks": ""
             }
            },
            "type": "scattergl"
           }
          ],
          "scattermapbox": [
           {
            "marker": {
             "colorbar": {
              "outlinewidth": 0,
              "ticks": ""
             }
            },
            "type": "scattermapbox"
           }
          ],
          "scatterpolar": [
           {
            "marker": {
             "colorbar": {
              "outlinewidth": 0,
              "ticks": ""
             }
            },
            "type": "scatterpolar"
           }
          ],
          "scatterpolargl": [
           {
            "marker": {
             "colorbar": {
              "outlinewidth": 0,
              "ticks": ""
             }
            },
            "type": "scatterpolargl"
           }
          ],
          "scatterternary": [
           {
            "marker": {
             "colorbar": {
              "outlinewidth": 0,
              "ticks": ""
             }
            },
            "type": "scatterternary"
           }
          ],
          "surface": [
           {
            "colorbar": {
             "outlinewidth": 0,
             "ticks": ""
            },
            "colorscale": [
             [
              0,
              "#0d0887"
             ],
             [
              0.1111111111111111,
              "#46039f"
             ],
             [
              0.2222222222222222,
              "#7201a8"
             ],
             [
              0.3333333333333333,
              "#9c179e"
             ],
             [
              0.4444444444444444,
              "#bd3786"
             ],
             [
              0.5555555555555556,
              "#d8576b"
             ],
             [
              0.6666666666666666,
              "#ed7953"
             ],
             [
              0.7777777777777778,
              "#fb9f3a"
             ],
             [
              0.8888888888888888,
              "#fdca26"
             ],
             [
              1,
              "#f0f921"
             ]
            ],
            "type": "surface"
           }
          ],
          "table": [
           {
            "cells": {
             "fill": {
              "color": "#EBF0F8"
             },
             "line": {
              "color": "white"
             }
            },
            "header": {
             "fill": {
              "color": "#C8D4E3"
             },
             "line": {
              "color": "white"
             }
            },
            "type": "table"
           }
          ]
         },
         "layout": {
          "annotationdefaults": {
           "arrowcolor": "#2a3f5f",
           "arrowhead": 0,
           "arrowwidth": 1
          },
          "colorscale": {
           "diverging": [
            [
             0,
             "#8e0152"
            ],
            [
             0.1,
             "#c51b7d"
            ],
            [
             0.2,
             "#de77ae"
            ],
            [
             0.3,
             "#f1b6da"
            ],
            [
             0.4,
             "#fde0ef"
            ],
            [
             0.5,
             "#f7f7f7"
            ],
            [
             0.6,
             "#e6f5d0"
            ],
            [
             0.7,
             "#b8e186"
            ],
            [
             0.8,
             "#7fbc41"
            ],
            [
             0.9,
             "#4d9221"
            ],
            [
             1,
             "#276419"
            ]
           ],
           "sequential": [
            [
             0,
             "#0d0887"
            ],
            [
             0.1111111111111111,
             "#46039f"
            ],
            [
             0.2222222222222222,
             "#7201a8"
            ],
            [
             0.3333333333333333,
             "#9c179e"
            ],
            [
             0.4444444444444444,
             "#bd3786"
            ],
            [
             0.5555555555555556,
             "#d8576b"
            ],
            [
             0.6666666666666666,
             "#ed7953"
            ],
            [
             0.7777777777777778,
             "#fb9f3a"
            ],
            [
             0.8888888888888888,
             "#fdca26"
            ],
            [
             1,
             "#f0f921"
            ]
           ],
           "sequentialminus": [
            [
             0,
             "#0d0887"
            ],
            [
             0.1111111111111111,
             "#46039f"
            ],
            [
             0.2222222222222222,
             "#7201a8"
            ],
            [
             0.3333333333333333,
             "#9c179e"
            ],
            [
             0.4444444444444444,
             "#bd3786"
            ],
            [
             0.5555555555555556,
             "#d8576b"
            ],
            [
             0.6666666666666666,
             "#ed7953"
            ],
            [
             0.7777777777777778,
             "#fb9f3a"
            ],
            [
             0.8888888888888888,
             "#fdca26"
            ],
            [
             1,
             "#f0f921"
            ]
           ]
          },
          "colorway": [
           "#636efa",
           "#EF553B",
           "#00cc96",
           "#ab63fa",
           "#FFA15A",
           "#19d3f3",
           "#FF6692",
           "#B6E880",
           "#FF97FF",
           "#FECB52"
          ],
          "font": {
           "color": "#2a3f5f"
          },
          "geo": {
           "bgcolor": "white",
           "lakecolor": "white",
           "landcolor": "#E5ECF6",
           "showlakes": true,
           "showland": true,
           "subunitcolor": "white"
          },
          "hoverlabel": {
           "align": "left"
          },
          "hovermode": "closest",
          "mapbox": {
           "style": "light"
          },
          "paper_bgcolor": "white",
          "plot_bgcolor": "#E5ECF6",
          "polar": {
           "angularaxis": {
            "gridcolor": "white",
            "linecolor": "white",
            "ticks": ""
           },
           "bgcolor": "#E5ECF6",
           "radialaxis": {
            "gridcolor": "white",
            "linecolor": "white",
            "ticks": ""
           }
          },
          "scene": {
           "xaxis": {
            "backgroundcolor": "#E5ECF6",
            "gridcolor": "white",
            "gridwidth": 2,
            "linecolor": "white",
            "showbackground": true,
            "ticks": "",
            "zerolinecolor": "white"
           },
           "yaxis": {
            "backgroundcolor": "#E5ECF6",
            "gridcolor": "white",
            "gridwidth": 2,
            "linecolor": "white",
            "showbackground": true,
            "ticks": "",
            "zerolinecolor": "white"
           },
           "zaxis": {
            "backgroundcolor": "#E5ECF6",
            "gridcolor": "white",
            "gridwidth": 2,
            "linecolor": "white",
            "showbackground": true,
            "ticks": "",
            "zerolinecolor": "white"
           }
          },
          "shapedefaults": {
           "line": {
            "color": "#2a3f5f"
           }
          },
          "ternary": {
           "aaxis": {
            "gridcolor": "white",
            "linecolor": "white",
            "ticks": ""
           },
           "baxis": {
            "gridcolor": "white",
            "linecolor": "white",
            "ticks": ""
           },
           "bgcolor": "#E5ECF6",
           "caxis": {
            "gridcolor": "white",
            "linecolor": "white",
            "ticks": ""
           }
          },
          "title": {
           "x": 0.05
          },
          "xaxis": {
           "automargin": true,
           "gridcolor": "white",
           "linecolor": "white",
           "ticks": "",
           "zerolinecolor": "white",
           "zerolinewidth": 2
          },
          "yaxis": {
           "automargin": true,
           "gridcolor": "white",
           "linecolor": "white",
           "ticks": "",
           "zerolinecolor": "white",
           "zerolinewidth": 2
          }
         }
        },
        "width": 900
       }
      },
      "text/html": [
       "<div>\n",
       "        \n",
       "        \n",
       "            <div id=\"9c0b1402-dfb6-49c6-952f-23ea4888ab98\" class=\"plotly-graph-div\" style=\"height:700px; width:900px;\"></div>\n",
       "            <script type=\"text/javascript\">\n",
       "                require([\"plotly\"], function(Plotly) {\n",
       "                    window.PLOTLYENV=window.PLOTLYENV || {};\n",
       "                    \n",
       "                if (document.getElementById(\"9c0b1402-dfb6-49c6-952f-23ea4888ab98\")) {\n",
       "                    Plotly.newPlot(\n",
       "                        '9c0b1402-dfb6-49c6-952f-23ea4888ab98',\n",
       "                        [{\"colorbar\": {\"title\": {\"text\": \"Points of Giving\"}}, \"colorscale\": [[0.0, \"rgb(255,255,229)\"], [0.125, \"rgb(247,252,185)\"], [0.25, \"rgb(217,240,163)\"], [0.375, \"rgb(173,221,142)\"], [0.5, \"rgb(120,198,121)\"], [0.625, \"rgb(65,171,93)\"], [0.75, \"rgb(35,132,67)\"], [0.875, \"rgb(0,104,55)\"], [1.0, \"rgb(0,69,41)\"]], \"locationmode\": \"country names\", \"locations\": [\"Malta\", \"Czech Republic\", \"Armenia\", \"Germany\", \"Denmark\", \"San Marino\", \"North Macedonia\", \"Sweden\", \"Slovenia\", \"Cyprus\", \"Israel\", \"Norway\", \"United Kingdom\", \"Iceland\", \"Estonia\", \"France\", \"Switzerland\", \"Australia\", \"Spain\", \"Austria\", \"Belgium\", \"Croatia\", \"Finland\", \"Georgia\", \"Hungary\", \"Ireland\", \"Latvia\", \"Lithuania\", \"Moldova\", \"Portugal\", \"Romania\", \"Belarus\"], \"type\": \"choropleth\", \"z\": [7.0, 6.0, 6.0, 8.0, 7.0, 3.0, 7.0, 12.0, 6.0, 5.0, 12.0, 7.0, 6.0, 7.0, 7.0, 12.0, 10.0, 6.0, 8.0, 8.0, 6.0, 6.0, 8.0, 8.0, 1.0, 8.0, 12.0, 12.0, 3.0, 12.0, 5.0, 6.0]}],\n",
       "                        {\"autosize\": false, \"geo\": {\"lataxis\": {\"range\": [30.0, 80.0]}, \"lonaxis\": {\"range\": [-20.0, 50.0]}, \"scope\": \"world\"}, \"height\": 700, \"template\": {\"data\": {\"bar\": [{\"error_x\": {\"color\": \"#2a3f5f\"}, \"error_y\": {\"color\": \"#2a3f5f\"}, \"marker\": {\"line\": {\"color\": \"#E5ECF6\", \"width\": 0.5}}, \"type\": \"bar\"}], \"barpolar\": [{\"marker\": {\"line\": {\"color\": \"#E5ECF6\", \"width\": 0.5}}, \"type\": \"barpolar\"}], \"carpet\": [{\"aaxis\": {\"endlinecolor\": \"#2a3f5f\", \"gridcolor\": \"white\", \"linecolor\": \"white\", \"minorgridcolor\": \"white\", \"startlinecolor\": \"#2a3f5f\"}, \"baxis\": {\"endlinecolor\": \"#2a3f5f\", \"gridcolor\": \"white\", \"linecolor\": \"white\", \"minorgridcolor\": \"white\", \"startlinecolor\": \"#2a3f5f\"}, \"type\": \"carpet\"}], \"choropleth\": [{\"colorbar\": {\"outlinewidth\": 0, \"ticks\": \"\"}, \"type\": \"choropleth\"}], \"contour\": [{\"colorbar\": {\"outlinewidth\": 0, \"ticks\": \"\"}, \"colorscale\": [[0.0, \"#0d0887\"], [0.1111111111111111, \"#46039f\"], [0.2222222222222222, \"#7201a8\"], [0.3333333333333333, \"#9c179e\"], [0.4444444444444444, \"#bd3786\"], [0.5555555555555556, \"#d8576b\"], [0.6666666666666666, \"#ed7953\"], [0.7777777777777778, \"#fb9f3a\"], [0.8888888888888888, \"#fdca26\"], [1.0, \"#f0f921\"]], \"type\": \"contour\"}], \"contourcarpet\": [{\"colorbar\": {\"outlinewidth\": 0, \"ticks\": \"\"}, \"type\": \"contourcarpet\"}], \"heatmap\": [{\"colorbar\": {\"outlinewidth\": 0, \"ticks\": \"\"}, \"colorscale\": [[0.0, \"#0d0887\"], [0.1111111111111111, \"#46039f\"], [0.2222222222222222, \"#7201a8\"], [0.3333333333333333, \"#9c179e\"], [0.4444444444444444, \"#bd3786\"], [0.5555555555555556, \"#d8576b\"], [0.6666666666666666, \"#ed7953\"], [0.7777777777777778, \"#fb9f3a\"], [0.8888888888888888, \"#fdca26\"], [1.0, \"#f0f921\"]], \"type\": \"heatmap\"}], \"heatmapgl\": [{\"colorbar\": {\"outlinewidth\": 0, \"ticks\": \"\"}, \"colorscale\": [[0.0, \"#0d0887\"], [0.1111111111111111, \"#46039f\"], [0.2222222222222222, \"#7201a8\"], [0.3333333333333333, \"#9c179e\"], [0.4444444444444444, \"#bd3786\"], [0.5555555555555556, \"#d8576b\"], [0.6666666666666666, \"#ed7953\"], [0.7777777777777778, \"#fb9f3a\"], [0.8888888888888888, \"#fdca26\"], [1.0, \"#f0f921\"]], \"type\": \"heatmapgl\"}], \"histogram\": [{\"marker\": {\"colorbar\": {\"outlinewidth\": 0, \"ticks\": \"\"}}, \"type\": \"histogram\"}], \"histogram2d\": [{\"colorbar\": {\"outlinewidth\": 0, \"ticks\": \"\"}, \"colorscale\": [[0.0, \"#0d0887\"], [0.1111111111111111, \"#46039f\"], [0.2222222222222222, \"#7201a8\"], [0.3333333333333333, \"#9c179e\"], [0.4444444444444444, \"#bd3786\"], [0.5555555555555556, \"#d8576b\"], [0.6666666666666666, \"#ed7953\"], [0.7777777777777778, \"#fb9f3a\"], [0.8888888888888888, \"#fdca26\"], [1.0, \"#f0f921\"]], \"type\": \"histogram2d\"}], \"histogram2dcontour\": [{\"colorbar\": {\"outlinewidth\": 0, \"ticks\": \"\"}, \"colorscale\": [[0.0, \"#0d0887\"], [0.1111111111111111, \"#46039f\"], [0.2222222222222222, \"#7201a8\"], [0.3333333333333333, \"#9c179e\"], [0.4444444444444444, \"#bd3786\"], [0.5555555555555556, \"#d8576b\"], [0.6666666666666666, \"#ed7953\"], [0.7777777777777778, \"#fb9f3a\"], [0.8888888888888888, \"#fdca26\"], [1.0, \"#f0f921\"]], \"type\": \"histogram2dcontour\"}], \"mesh3d\": [{\"colorbar\": {\"outlinewidth\": 0, \"ticks\": \"\"}, \"type\": \"mesh3d\"}], \"parcoords\": [{\"line\": {\"colorbar\": {\"outlinewidth\": 0, \"ticks\": \"\"}}, \"type\": \"parcoords\"}], \"scatter\": [{\"marker\": {\"colorbar\": {\"outlinewidth\": 0, \"ticks\": \"\"}}, \"type\": \"scatter\"}], \"scatter3d\": [{\"line\": {\"colorbar\": {\"outlinewidth\": 0, \"ticks\": \"\"}}, \"marker\": {\"colorbar\": {\"outlinewidth\": 0, \"ticks\": \"\"}}, \"type\": \"scatter3d\"}], \"scattercarpet\": [{\"marker\": {\"colorbar\": {\"outlinewidth\": 0, \"ticks\": \"\"}}, \"type\": \"scattercarpet\"}], \"scattergeo\": [{\"marker\": {\"colorbar\": {\"outlinewidth\": 0, \"ticks\": \"\"}}, \"type\": \"scattergeo\"}], \"scattergl\": [{\"marker\": {\"colorbar\": {\"outlinewidth\": 0, \"ticks\": \"\"}}, \"type\": \"scattergl\"}], \"scattermapbox\": [{\"marker\": {\"colorbar\": {\"outlinewidth\": 0, \"ticks\": \"\"}}, \"type\": \"scattermapbox\"}], \"scatterpolar\": [{\"marker\": {\"colorbar\": {\"outlinewidth\": 0, \"ticks\": \"\"}}, \"type\": \"scatterpolar\"}], \"scatterpolargl\": [{\"marker\": {\"colorbar\": {\"outlinewidth\": 0, \"ticks\": \"\"}}, \"type\": \"scatterpolargl\"}], \"scatterternary\": [{\"marker\": {\"colorbar\": {\"outlinewidth\": 0, \"ticks\": \"\"}}, \"type\": \"scatterternary\"}], \"surface\": [{\"colorbar\": {\"outlinewidth\": 0, \"ticks\": \"\"}, \"colorscale\": [[0.0, \"#0d0887\"], [0.1111111111111111, \"#46039f\"], [0.2222222222222222, \"#7201a8\"], [0.3333333333333333, \"#9c179e\"], [0.4444444444444444, \"#bd3786\"], [0.5555555555555556, \"#d8576b\"], [0.6666666666666666, \"#ed7953\"], [0.7777777777777778, \"#fb9f3a\"], [0.8888888888888888, \"#fdca26\"], [1.0, \"#f0f921\"]], \"type\": \"surface\"}], \"table\": [{\"cells\": {\"fill\": {\"color\": \"#EBF0F8\"}, \"line\": {\"color\": \"white\"}}, \"header\": {\"fill\": {\"color\": \"#C8D4E3\"}, \"line\": {\"color\": \"white\"}}, \"type\": \"table\"}]}, \"layout\": {\"annotationdefaults\": {\"arrowcolor\": \"#2a3f5f\", \"arrowhead\": 0, \"arrowwidth\": 1}, \"colorscale\": {\"diverging\": [[0, \"#8e0152\"], [0.1, \"#c51b7d\"], [0.2, \"#de77ae\"], [0.3, \"#f1b6da\"], [0.4, \"#fde0ef\"], [0.5, \"#f7f7f7\"], [0.6, \"#e6f5d0\"], [0.7, \"#b8e186\"], [0.8, \"#7fbc41\"], [0.9, \"#4d9221\"], [1, \"#276419\"]], \"sequential\": [[0.0, \"#0d0887\"], [0.1111111111111111, \"#46039f\"], [0.2222222222222222, \"#7201a8\"], [0.3333333333333333, \"#9c179e\"], [0.4444444444444444, \"#bd3786\"], [0.5555555555555556, \"#d8576b\"], [0.6666666666666666, \"#ed7953\"], [0.7777777777777778, \"#fb9f3a\"], [0.8888888888888888, \"#fdca26\"], [1.0, \"#f0f921\"]], \"sequentialminus\": [[0.0, \"#0d0887\"], [0.1111111111111111, \"#46039f\"], [0.2222222222222222, \"#7201a8\"], [0.3333333333333333, \"#9c179e\"], [0.4444444444444444, \"#bd3786\"], [0.5555555555555556, \"#d8576b\"], [0.6666666666666666, \"#ed7953\"], [0.7777777777777778, \"#fb9f3a\"], [0.8888888888888888, \"#fdca26\"], [1.0, \"#f0f921\"]]}, \"colorway\": [\"#636efa\", \"#EF553B\", \"#00cc96\", \"#ab63fa\", \"#FFA15A\", \"#19d3f3\", \"#FF6692\", \"#B6E880\", \"#FF97FF\", \"#FECB52\"], \"font\": {\"color\": \"#2a3f5f\"}, \"geo\": {\"bgcolor\": \"white\", \"lakecolor\": \"white\", \"landcolor\": \"#E5ECF6\", \"showlakes\": true, \"showland\": true, \"subunitcolor\": \"white\"}, \"hoverlabel\": {\"align\": \"left\"}, \"hovermode\": \"closest\", \"mapbox\": {\"style\": \"light\"}, \"paper_bgcolor\": \"white\", \"plot_bgcolor\": \"#E5ECF6\", \"polar\": {\"angularaxis\": {\"gridcolor\": \"white\", \"linecolor\": \"white\", \"ticks\": \"\"}, \"bgcolor\": \"#E5ECF6\", \"radialaxis\": {\"gridcolor\": \"white\", \"linecolor\": \"white\", \"ticks\": \"\"}}, \"scene\": {\"xaxis\": {\"backgroundcolor\": \"#E5ECF6\", \"gridcolor\": \"white\", \"gridwidth\": 2, \"linecolor\": \"white\", \"showbackground\": true, \"ticks\": \"\", \"zerolinecolor\": \"white\"}, \"yaxis\": {\"backgroundcolor\": \"#E5ECF6\", \"gridcolor\": \"white\", \"gridwidth\": 2, \"linecolor\": \"white\", \"showbackground\": true, \"ticks\": \"\", \"zerolinecolor\": \"white\"}, \"zaxis\": {\"backgroundcolor\": \"#E5ECF6\", \"gridcolor\": \"white\", \"gridwidth\": 2, \"linecolor\": \"white\", \"showbackground\": true, \"ticks\": \"\", \"zerolinecolor\": \"white\"}}, \"shapedefaults\": {\"line\": {\"color\": \"#2a3f5f\"}}, \"ternary\": {\"aaxis\": {\"gridcolor\": \"white\", \"linecolor\": \"white\", \"ticks\": \"\"}, \"baxis\": {\"gridcolor\": \"white\", \"linecolor\": \"white\", \"ticks\": \"\"}, \"bgcolor\": \"#E5ECF6\", \"caxis\": {\"gridcolor\": \"white\", \"linecolor\": \"white\", \"ticks\": \"\"}}, \"title\": {\"x\": 0.05}, \"xaxis\": {\"automargin\": true, \"gridcolor\": \"white\", \"linecolor\": \"white\", \"ticks\": \"\", \"zerolinecolor\": \"white\", \"zerolinewidth\": 2}, \"yaxis\": {\"automargin\": true, \"gridcolor\": \"white\", \"linecolor\": \"white\", \"ticks\": \"\", \"zerolinecolor\": \"white\", \"zerolinewidth\": 2}}}, \"width\": 900},\n",
       "                        {\"responsive\": true}\n",
       "                    ).then(function(){\n",
       "                            \n",
       "var gd = document.getElementById('9c0b1402-dfb6-49c6-952f-23ea4888ab98');\n",
       "var x = new MutationObserver(function (mutations, observer) {{\n",
       "        var display = window.getComputedStyle(gd).display;\n",
       "        if (!display || display === 'none') {{\n",
       "            console.log([gd, 'removed!']);\n",
       "            Plotly.purge(gd);\n",
       "            observer.disconnect();\n",
       "        }}\n",
       "}});\n",
       "\n",
       "// Listen for the removal of the full notebook cells\n",
       "var notebookContainer = gd.closest('#notebook-container');\n",
       "if (notebookContainer) {{\n",
       "    x.observe(notebookContainer, {childList: true});\n",
       "}}\n",
       "\n",
       "// Listen for the clearing of the current output cell\n",
       "var outputEl = gd.closest('.output');\n",
       "if (outputEl) {{\n",
       "    x.observe(outputEl, {childList: true});\n",
       "}}\n",
       "\n",
       "                        })\n",
       "                };\n",
       "                });\n",
       "            </script>\n",
       "        </div>"
      ]
     },
     "metadata": {},
     "output_type": "display_data"
    }
   ],
   "source": [
    "options_list=list(df_NL['From country'].value_counts().sort_index().index) \n",
    "fig = go.Figure(data=go.Choropleth(\n",
    "    locations=df_NL['From country'], # Spatial coordinates\n",
    "    z = df_NL['Points'].astype(float), # Data to be color-coded\n",
    "    locationmode = 'country names', # set of locations match entries in `locations`\n",
    "    colorscale = 'ylgn',\n",
    "    colorbar_title = 'Points of Giving',\n",
    "))\n",
    "fig.update_layout(geo=dict(scope='world',\n",
    "                           lataxis=dict(range=[30.0, 80.0]),\n",
    "                           lonaxis=dict(range=[-20.0, 50.0])),\n",
    "                autosize=False,width=900,height=700)\n",
    "                \n",
    "fig.show()"
   ]
  },
  {
   "cell_type": "code",
   "execution_count": null,
   "metadata": {},
   "outputs": [],
   "source": []
  },
  {
   "cell_type": "markdown",
   "metadata": {},
   "source": [
    "### Initiate the App"
   ]
  },
  {
   "cell_type": "code",
   "execution_count": 152,
   "metadata": {},
   "outputs": [],
   "source": [
    "external_stylesheets = ['https://codepen.io/chriddyp/pen/bWLwgP.css']\n",
    "app = dash.Dash(__name__, external_stylesheets=external_stylesheets)\n",
    "server = app.server\n",
    "app.title='Eurovision 2019'"
   ]
  },
  {
   "cell_type": "markdown",
   "metadata": {},
   "source": [
    "### Define the Variables"
   ]
  },
  {
   "cell_type": "code",
   "execution_count": null,
   "metadata": {},
   "outputs": [],
   "source": [
    "myheading = \"Eurovision 2019 Data\"\n",
    "mysubheading = \"2019 Jury Votes\"\n",
    "tabtitle = 'Eurovision'\n",
    "filename = 'eurovision_song_contest.xlsx'\n",
    "sourceurl = 'https://eurovision.tv/event/tel-aviv-2019'\n",
    "githublink = 'https://github.com/austinlasseter/dash-table-example'"
   ]
  },
  {
   "cell_type": "markdown",
   "metadata": {},
   "source": [
    "### Tab 3"
   ]
  },
  {
   "cell_type": "code",
   "execution_count": 223,
   "metadata": {},
   "outputs": [
    {
     "data": {
      "text/html": [
       "<div>\n",
       "<style scoped>\n",
       "    .dataframe tbody tr th:only-of-type {\n",
       "        vertical-align: middle;\n",
       "    }\n",
       "\n",
       "    .dataframe tbody tr th {\n",
       "        vertical-align: top;\n",
       "    }\n",
       "\n",
       "    .dataframe thead th {\n",
       "        text-align: right;\n",
       "    }\n",
       "</style>\n",
       "<table border=\"1\" class=\"dataframe\">\n",
       "  <thead>\n",
       "    <tr style=\"text-align: right;\">\n",
       "      <th></th>\n",
       "      <th>Year</th>\n",
       "      <th>Non English</th>\n",
       "      <th>Total</th>\n",
       "      <th>English</th>\n",
       "      <th>Mix</th>\n",
       "    </tr>\n",
       "  </thead>\n",
       "  <tbody>\n",
       "    <tr>\n",
       "      <th>0</th>\n",
       "      <td>2019</td>\n",
       "      <td>7</td>\n",
       "      <td>41</td>\n",
       "      <td>26</td>\n",
       "      <td>9</td>\n",
       "    </tr>\n",
       "    <tr>\n",
       "      <th>1</th>\n",
       "      <td>2018</td>\n",
       "      <td>12</td>\n",
       "      <td>43</td>\n",
       "      <td>26</td>\n",
       "      <td>6</td>\n",
       "    </tr>\n",
       "    <tr>\n",
       "      <th>2</th>\n",
       "      <td>2017</td>\n",
       "      <td>3</td>\n",
       "      <td>42</td>\n",
       "      <td>35</td>\n",
       "      <td>5</td>\n",
       "    </tr>\n",
       "    <tr>\n",
       "      <th>3</th>\n",
       "      <td>2016</td>\n",
       "      <td>3</td>\n",
       "      <td>42</td>\n",
       "      <td>33</td>\n",
       "      <td>6</td>\n",
       "    </tr>\n",
       "    <tr>\n",
       "      <th>4</th>\n",
       "      <td>2015</td>\n",
       "      <td>6</td>\n",
       "      <td>40</td>\n",
       "      <td>33</td>\n",
       "      <td>1</td>\n",
       "    </tr>\n",
       "  </tbody>\n",
       "</table>\n",
       "</div>"
      ],
      "text/plain": [
       "   Year  Non English  Total  English  Mix\n",
       "0  2019            7     41       26    9\n",
       "1  2018           12     43       26    6\n",
       "2  2017            3     42       35    5\n",
       "3  2016            3     42       33    6\n",
       "4  2015            6     40       33    1"
      ]
     },
     "execution_count": 223,
     "metadata": {},
     "output_type": "execute_result"
    }
   ],
   "source": [
    "df_f=pd.read_csv('Non_English.csv')\n",
    "df_f.head()"
   ]
  },
  {
   "cell_type": "code",
   "execution_count": 224,
   "metadata": {},
   "outputs": [
    {
     "data": {
      "text/html": [
       "<div>\n",
       "<style scoped>\n",
       "    .dataframe tbody tr th:only-of-type {\n",
       "        vertical-align: middle;\n",
       "    }\n",
       "\n",
       "    .dataframe tbody tr th {\n",
       "        vertical-align: top;\n",
       "    }\n",
       "\n",
       "    .dataframe thead th {\n",
       "        text-align: right;\n",
       "    }\n",
       "</style>\n",
       "<table border=\"1\" class=\"dataframe\">\n",
       "  <thead>\n",
       "    <tr style=\"text-align: right;\">\n",
       "      <th></th>\n",
       "      <th>Year</th>\n",
       "      <th>Non English</th>\n",
       "      <th>Total</th>\n",
       "      <th>English</th>\n",
       "      <th>Mix</th>\n",
       "      <th>Ratio_e</th>\n",
       "    </tr>\n",
       "  </thead>\n",
       "  <tbody>\n",
       "    <tr>\n",
       "      <th>0</th>\n",
       "      <td>2019</td>\n",
       "      <td>7</td>\n",
       "      <td>41</td>\n",
       "      <td>26</td>\n",
       "      <td>9</td>\n",
       "      <td>0.634146</td>\n",
       "    </tr>\n",
       "    <tr>\n",
       "      <th>1</th>\n",
       "      <td>2018</td>\n",
       "      <td>12</td>\n",
       "      <td>43</td>\n",
       "      <td>26</td>\n",
       "      <td>6</td>\n",
       "      <td>0.604651</td>\n",
       "    </tr>\n",
       "    <tr>\n",
       "      <th>2</th>\n",
       "      <td>2017</td>\n",
       "      <td>3</td>\n",
       "      <td>42</td>\n",
       "      <td>35</td>\n",
       "      <td>5</td>\n",
       "      <td>0.833333</td>\n",
       "    </tr>\n",
       "    <tr>\n",
       "      <th>3</th>\n",
       "      <td>2016</td>\n",
       "      <td>3</td>\n",
       "      <td>42</td>\n",
       "      <td>33</td>\n",
       "      <td>6</td>\n",
       "      <td>0.785714</td>\n",
       "    </tr>\n",
       "    <tr>\n",
       "      <th>4</th>\n",
       "      <td>2015</td>\n",
       "      <td>6</td>\n",
       "      <td>40</td>\n",
       "      <td>33</td>\n",
       "      <td>1</td>\n",
       "      <td>0.825000</td>\n",
       "    </tr>\n",
       "  </tbody>\n",
       "</table>\n",
       "</div>"
      ],
      "text/plain": [
       "   Year  Non English  Total  English  Mix   Ratio_e\n",
       "0  2019            7     41       26    9  0.634146\n",
       "1  2018           12     43       26    6  0.604651\n",
       "2  2017            3     42       35    5  0.833333\n",
       "3  2016            3     42       33    6  0.785714\n",
       "4  2015            6     40       33    1  0.825000"
      ]
     },
     "execution_count": 224,
     "metadata": {},
     "output_type": "execute_result"
    }
   ],
   "source": [
    "df_f['Ratio_e']=df_f['English']/df_f['Total']\n",
    "df_f.head()"
   ]
  },
  {
   "cell_type": "code",
   "execution_count": 225,
   "metadata": {},
   "outputs": [
    {
     "data": {
      "text/html": [
       "<div>\n",
       "<style scoped>\n",
       "    .dataframe tbody tr th:only-of-type {\n",
       "        vertical-align: middle;\n",
       "    }\n",
       "\n",
       "    .dataframe tbody tr th {\n",
       "        vertical-align: top;\n",
       "    }\n",
       "\n",
       "    .dataframe thead th {\n",
       "        text-align: right;\n",
       "    }\n",
       "</style>\n",
       "<table border=\"1\" class=\"dataframe\">\n",
       "  <thead>\n",
       "    <tr style=\"text-align: right;\">\n",
       "      <th></th>\n",
       "      <th>Year</th>\n",
       "      <th>Non English</th>\n",
       "      <th>Total</th>\n",
       "      <th>English</th>\n",
       "      <th>Mix</th>\n",
       "      <th>Ratio_e</th>\n",
       "      <th>Ratio_m</th>\n",
       "    </tr>\n",
       "  </thead>\n",
       "  <tbody>\n",
       "    <tr>\n",
       "      <th>0</th>\n",
       "      <td>2019</td>\n",
       "      <td>7</td>\n",
       "      <td>41</td>\n",
       "      <td>26</td>\n",
       "      <td>9</td>\n",
       "      <td>0.634146</td>\n",
       "      <td>0.219512</td>\n",
       "    </tr>\n",
       "    <tr>\n",
       "      <th>1</th>\n",
       "      <td>2018</td>\n",
       "      <td>12</td>\n",
       "      <td>43</td>\n",
       "      <td>26</td>\n",
       "      <td>6</td>\n",
       "      <td>0.604651</td>\n",
       "      <td>0.139535</td>\n",
       "    </tr>\n",
       "    <tr>\n",
       "      <th>2</th>\n",
       "      <td>2017</td>\n",
       "      <td>3</td>\n",
       "      <td>42</td>\n",
       "      <td>35</td>\n",
       "      <td>5</td>\n",
       "      <td>0.833333</td>\n",
       "      <td>0.119048</td>\n",
       "    </tr>\n",
       "    <tr>\n",
       "      <th>3</th>\n",
       "      <td>2016</td>\n",
       "      <td>3</td>\n",
       "      <td>42</td>\n",
       "      <td>33</td>\n",
       "      <td>6</td>\n",
       "      <td>0.785714</td>\n",
       "      <td>0.142857</td>\n",
       "    </tr>\n",
       "    <tr>\n",
       "      <th>4</th>\n",
       "      <td>2015</td>\n",
       "      <td>6</td>\n",
       "      <td>40</td>\n",
       "      <td>33</td>\n",
       "      <td>1</td>\n",
       "      <td>0.825000</td>\n",
       "      <td>0.025000</td>\n",
       "    </tr>\n",
       "  </tbody>\n",
       "</table>\n",
       "</div>"
      ],
      "text/plain": [
       "   Year  Non English  Total  English  Mix   Ratio_e   Ratio_m\n",
       "0  2019            7     41       26    9  0.634146  0.219512\n",
       "1  2018           12     43       26    6  0.604651  0.139535\n",
       "2  2017            3     42       35    5  0.833333  0.119048\n",
       "3  2016            3     42       33    6  0.785714  0.142857\n",
       "4  2015            6     40       33    1  0.825000  0.025000"
      ]
     },
     "execution_count": 225,
     "metadata": {},
     "output_type": "execute_result"
    }
   ],
   "source": [
    "df_f['Ratio_m']=df_f['Mix']/df_f['Total']\n",
    "df_f.head()"
   ]
  },
  {
   "cell_type": "code",
   "execution_count": 226,
   "metadata": {},
   "outputs": [
    {
     "data": {
      "text/html": [
       "<div>\n",
       "<style scoped>\n",
       "    .dataframe tbody tr th:only-of-type {\n",
       "        vertical-align: middle;\n",
       "    }\n",
       "\n",
       "    .dataframe tbody tr th {\n",
       "        vertical-align: top;\n",
       "    }\n",
       "\n",
       "    .dataframe thead th {\n",
       "        text-align: right;\n",
       "    }\n",
       "</style>\n",
       "<table border=\"1\" class=\"dataframe\">\n",
       "  <thead>\n",
       "    <tr style=\"text-align: right;\">\n",
       "      <th></th>\n",
       "      <th>Year</th>\n",
       "      <th>Non English</th>\n",
       "      <th>Total</th>\n",
       "      <th>English</th>\n",
       "      <th>Mix</th>\n",
       "      <th>Ratio_e</th>\n",
       "      <th>Ratio_m</th>\n",
       "      <th>Ratio</th>\n",
       "    </tr>\n",
       "  </thead>\n",
       "  <tbody>\n",
       "    <tr>\n",
       "      <th>0</th>\n",
       "      <td>2019</td>\n",
       "      <td>7</td>\n",
       "      <td>41</td>\n",
       "      <td>26</td>\n",
       "      <td>9</td>\n",
       "      <td>0.634146</td>\n",
       "      <td>0.219512</td>\n",
       "      <td>0.170732</td>\n",
       "    </tr>\n",
       "    <tr>\n",
       "      <th>1</th>\n",
       "      <td>2018</td>\n",
       "      <td>12</td>\n",
       "      <td>43</td>\n",
       "      <td>26</td>\n",
       "      <td>6</td>\n",
       "      <td>0.604651</td>\n",
       "      <td>0.139535</td>\n",
       "      <td>0.279070</td>\n",
       "    </tr>\n",
       "    <tr>\n",
       "      <th>2</th>\n",
       "      <td>2017</td>\n",
       "      <td>3</td>\n",
       "      <td>42</td>\n",
       "      <td>35</td>\n",
       "      <td>5</td>\n",
       "      <td>0.833333</td>\n",
       "      <td>0.119048</td>\n",
       "      <td>0.071429</td>\n",
       "    </tr>\n",
       "    <tr>\n",
       "      <th>3</th>\n",
       "      <td>2016</td>\n",
       "      <td>3</td>\n",
       "      <td>42</td>\n",
       "      <td>33</td>\n",
       "      <td>6</td>\n",
       "      <td>0.785714</td>\n",
       "      <td>0.142857</td>\n",
       "      <td>0.071429</td>\n",
       "    </tr>\n",
       "    <tr>\n",
       "      <th>4</th>\n",
       "      <td>2015</td>\n",
       "      <td>6</td>\n",
       "      <td>40</td>\n",
       "      <td>33</td>\n",
       "      <td>1</td>\n",
       "      <td>0.825000</td>\n",
       "      <td>0.025000</td>\n",
       "      <td>0.150000</td>\n",
       "    </tr>\n",
       "  </tbody>\n",
       "</table>\n",
       "</div>"
      ],
      "text/plain": [
       "   Year  Non English  Total  English  Mix   Ratio_e   Ratio_m     Ratio\n",
       "0  2019            7     41       26    9  0.634146  0.219512  0.170732\n",
       "1  2018           12     43       26    6  0.604651  0.139535  0.279070\n",
       "2  2017            3     42       35    5  0.833333  0.119048  0.071429\n",
       "3  2016            3     42       33    6  0.785714  0.142857  0.071429\n",
       "4  2015            6     40       33    1  0.825000  0.025000  0.150000"
      ]
     },
     "execution_count": 226,
     "metadata": {},
     "output_type": "execute_result"
    }
   ],
   "source": [
    "df_f['Ratio']=df_f['Non English']/df_f['Total']\n",
    "df_f.head()"
   ]
  },
  {
   "cell_type": "code",
   "execution_count": null,
   "metadata": {},
   "outputs": [],
   "source": []
  }
 ],
 "metadata": {
  "kernelspec": {
   "display_name": "Python 3",
   "language": "python",
   "name": "python3"
  },
  "language_info": {
   "codemirror_mode": {
    "name": "ipython",
    "version": 3
   },
   "file_extension": ".py",
   "mimetype": "text/x-python",
   "name": "python",
   "nbconvert_exporter": "python",
   "pygments_lexer": "ipython3",
   "version": "3.7.3"
  }
 },
 "nbformat": 4,
 "nbformat_minor": 2
}
